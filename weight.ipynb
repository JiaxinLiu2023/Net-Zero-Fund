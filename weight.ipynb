{
 "cells": [
  {
   "cell_type": "code",
   "execution_count": 1,
   "id": "79c5f303",
   "metadata": {},
   "outputs": [],
   "source": [
    "import pandas as pd\n",
    "import numpy as np\n",
    "import matplotlib.pyplot as plt"
   ]
  },
  {
   "cell_type": "code",
   "execution_count": 2,
   "id": "6bb1287e",
   "metadata": {},
   "outputs": [],
   "source": [
    "df = pd.read_excel(r\"C:\\Users\\ljx\\Desktop\\121.xlsx\",index_col=\"date\")"
   ]
  },
  {
   "cell_type": "code",
   "execution_count": 3,
   "id": "1faca085",
   "metadata": {},
   "outputs": [
    {
     "name": "stdout",
     "output_type": "stream",
     "text": [
      "缺失值（NaN）的数量: 337\n"
     ]
    }
   ],
   "source": [
    "nan_count = df.isna().sum().sum()\n",
    "\n",
    "# 打印NaN的数量\n",
    "print(f\"缺失值（NaN）的数量: {nan_count}\")"
   ]
  },
  {
   "cell_type": "code",
   "execution_count": 4,
   "id": "41db57dd",
   "metadata": {},
   "outputs": [
    {
     "name": "stdout",
     "output_type": "stream",
     "text": [
      "缺失值（NaN）的数量: 8\n"
     ]
    }
   ],
   "source": [
    "df_filled_ffill = df.fillna(method='ffill')\n",
    "nan_count = df_filled_ffill.isna().sum().sum()\n",
    "\n",
    "# 打印NaN的数量\n",
    "print(f\"缺失值（NaN）的数量: {nan_count}\")"
   ]
  },
  {
   "cell_type": "code",
   "execution_count": 5,
   "id": "965dedb3",
   "metadata": {},
   "outputs": [
    {
     "name": "stdout",
     "output_type": "stream",
     "text": [
      "缺失值（NaN）的数量: 0\n"
     ]
    }
   ],
   "source": [
    "df_filled_bfill = df_filled_ffill.fillna(method='bfill')\n",
    "nan_count = df_filled_bfill.isna().sum().sum()\n",
    "\n",
    "# 打印NaN的数量\n",
    "print(f\"缺失值（NaN）的数量: {nan_count}\")"
   ]
  },
  {
   "cell_type": "code",
   "execution_count": 6,
   "id": "80b9942b",
   "metadata": {},
   "outputs": [
    {
     "name": "stdout",
     "output_type": "stream",
     "text": [
      "缺失值（NaN）的数量: 0\n"
     ]
    }
   ],
   "source": [
    "df=df_filled_bfill\n",
    "nan_count = df.isna().sum().sum()\n",
    "\n",
    "# 打印NaN的数量\n",
    "print(f\"缺失值（NaN）的数量: {nan_count}\")"
   ]
  },
  {
   "cell_type": "code",
   "execution_count": 7,
   "id": "e0c529fc",
   "metadata": {},
   "outputs": [
    {
     "name": "stdout",
     "output_type": "stream",
     "text": [
      "Optimal Weights (in percentage): ['0.00%', '0.00%', '0.81%', '4.37%', '0.00%', '0.00%', '2.46%', '0.21%', '5.00%', '0.00%', '0.00%', '0.00%', '0.00%', '4.14%', '5.00%', '0.00%', '1.84%', '0.00%', '0.00%', '0.00%', '5.00%', '5.00%', '0.00%', '0.00%', '0.00%', '2.56%', '0.00%', '0.00%', '0.00%', '0.00%', '5.00%', '3.39%', '0.00%', '0.00%', '0.00%', '3.86%', '0.00%', '1.57%', '0.00%', '0.00%', '0.00%', '0.00%', '0.00%', '0.00%', '0.00%', '0.00%', '0.00%', '0.00%', '0.00%', '0.00%', '0.00%', '0.00%', '0.00%', '0.00%', '0.00%', '0.08%', '0.00%', '1.49%', '0.00%', '0.00%', '4.27%', '5.00%', '0.00%', '0.00%', '0.00%', '0.00%', '0.00%', '0.00%', '0.00%', '0.00%', '0.00%', '0.00%', '0.00%', '0.00%', '0.00%', '0.00%', '0.00%', '0.00%', '0.00%', '0.00%', '0.00%', '0.00%', '0.00%', '0.00%', '0.00%', '5.00%', '0.00%', '0.00%', '0.00%', '0.00%', '5.00%', '5.00%', '0.00%', '0.00%', '0.00%', '5.00%', '0.00%', '0.00%', '0.00%', '0.00%', '0.00%', '0.00%', '0.00%', '0.00%', '0.00%', '0.00%', '0.00%', '0.00%', '0.00%', '5.00%', '0.58%', '0.00%', '0.00%', '1.83%', '0.00%', '0.00%', '4.97%', '1.57%', '0.00%', '0.00%', '0.00%']\n",
      "Max Sharpe Ratio: 1.9257908047448797\n",
      "Expected Annual Return of Optimal Portfolio: 0.2837254948473328\n",
      "Annual Volatility of Optimal Portfolio: 0.12702599588938202\n",
      "Number of Non-Zero Weights (approximately two decimal places): 28\n"
     ]
    }
   ],
   "source": [
    "from scipy.optimize import minimize\n",
    "# 计算每日收益率\n",
    "daily_returns = df.pct_change().dropna()\n",
    "\n",
    "def objective_function(weights, returns, risk_free_rate):\n",
    "    # 计算投资组合的夏普比率，最大化夏普比率等于最小化相反的夏普比率\n",
    "    portfolio_return = np.sum(returns.mean() * weights) * 252  # 年度平均，假设252个交易日\n",
    "    excess_return = portfolio_return - risk_free_rate\n",
    "    portfolio_volatility = np.sqrt(np.dot(weights.T, np.dot(returns.cov() * 252, weights)))\n",
    "    sharpe_ratio = excess_return / portfolio_volatility\n",
    "    return -sharpe_ratio  # 最小化相反的夏普比率\n",
    "\n",
    "# 初始权重猜测值\n",
    "initial_weights = np.ones(len(df.columns)) / len(df.columns)\n",
    "\n",
    "# 定义权重的约束（权重总和为0.95）\n",
    "target_weight_sum = 0.95\n",
    "constraints = ({'type': 'eq', 'fun': lambda w: np.sum(w) - target_weight_sum})\n",
    "\n",
    "# 定义权重的上下限（以百分比表示，保留两位小数）\n",
    "lower_bound = 0.0\n",
    "upper_bound = 0.05\n",
    "bounds = [(lower_bound, upper_bound) for _ in initial_weights]\n",
    "\n",
    "# 假设无风险利率为3.91%\n",
    "risk_free_rate = 0.0391\n",
    "\n",
    "# 使用 minimize 函数找到最小值（最大化夏普比率）\n",
    "result_with_risk_free = minimize(objective_function, initial_weights, args=(daily_returns, risk_free_rate),\n",
    "                                  method='SLSQP', bounds=bounds, constraints=constraints)\n",
    "\n",
    "# 输出优化结果\n",
    "optimal_weights = result_with_risk_free.x\n",
    "max_sharpe_ratio = -result_with_risk_free.fun\n",
    "\n",
    "# 计算最优权重对应的投资组合的预期年收益和年波动率\n",
    "optimal_portfolio_return = np.sum(daily_returns.mean() * optimal_weights) * 252\n",
    "optimal_portfolio_volatility = np.sqrt(np.dot(optimal_weights.T, np.dot(daily_returns.cov() * 252, optimal_weights)))\n",
    "\n",
    "# 输出结果\n",
    "print(\"Optimal Weights (in percentage):\", [f\"{w*100:.2f}%\" for w in optimal_weights])\n",
    "print(\"Max Sharpe Ratio:\", max_sharpe_ratio)\n",
    "print(\"Expected Annual Return of Optimal Portfolio:\", optimal_portfolio_return)\n",
    "print(\"Annual Volatility of Optimal Portfolio:\", optimal_portfolio_volatility)\n",
    "\n",
    "# 统计约等于两位小数之后仍显示为非零数的个数\n",
    "non_zero_weights_count = np.sum(np.abs(optimal_weights) >= 1e-4)  # 1e-4 是一个小的阈值\n",
    "\n",
    "# 输出结果\n",
    "print(\"Number of Non-Zero Weights (approximately two decimal places):\", non_zero_weights_count)"
   ]
  },
  {
   "cell_type": "code",
   "execution_count": 9,
   "id": "80f7f4b4",
   "metadata": {},
   "outputs": [],
   "source": [
    "# 将权重添加到 DataFrame 中\n",
    "df_new = pd.DataFrame({'name': df.columns.values, 'weights': optimal_weights})\n",
    "df_new\n",
    "df_new.to_excel(r\"C:\\Users\\ljx\\Desktop\\28.xlsx\", index=False)"
   ]
  },
  {
   "cell_type": "code",
   "execution_count": null,
   "id": "7f7a3eaa",
   "metadata": {},
   "outputs": [],
   "source": []
  }
 ],
 "metadata": {
  "kernelspec": {
   "display_name": "Python 3 (ipykernel)",
   "language": "python",
   "name": "python3"
  },
  "language_info": {
   "codemirror_mode": {
    "name": "ipython",
    "version": 3
   },
   "file_extension": ".py",
   "mimetype": "text/x-python",
   "name": "python",
   "nbconvert_exporter": "python",
   "pygments_lexer": "ipython3",
   "version": "3.11.5"
  }
 },
 "nbformat": 4,
 "nbformat_minor": 5
}
